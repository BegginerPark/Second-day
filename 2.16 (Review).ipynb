{
 "cells": [
  {
   "cell_type": "code",
   "execution_count": 1,
   "metadata": {},
   "outputs": [],
   "source": [
    "# 리스트의 특징은 대괄호 [] 를 사용한다.\n",
    "# 튜블의 특징은 소괄호 () 를 사용한다. / 수정 삭제 불가능 하다.\n",
    "# 딕셔너리의 특징은 중괄호 {} 를 사용한다.\n",
    "# 집합"
   ]
  },
  {
   "cell_type": "code",
   "execution_count": 2,
   "metadata": {},
   "outputs": [],
   "source": [
    "# 인덱싱 - 하나를 뽑을 때 []\n",
    "# 슬라이싱 - 여러개를 뽑을때 [:]"
   ]
  },
  {
   "cell_type": "code",
   "execution_count": 3,
   "metadata": {},
   "outputs": [],
   "source": [
    "# len() 길이를 구할 때\n",
    "# del() 삭제 \n",
    "# a.append() 리스트에 하나하나 추가 할때\n",
    "# a.sort() 정렬 - 순서 대로 정렬\n",
    "# a.reverse() 뒤집기 - 그대로 뒤집는다\n",
    "# a.index() 어떤 값의 위치를 알려 준다.\n",
    "# a.insert() 원하는 위치에 추가 한다.\n",
    "# a.remove() 원하는 값을 날릴 수 있다.\n",
    "# a.pop() 리스트의 마지막 요소를 뽑아 낸다. - 원하는 위치의 것도 뽑아 낼 수 있다.\n",
    "# a.count() 특정 값이 몇개 인지 갯수를 세어 준다.\n",
    "# a.extend() 리스트 안에 추가 할때 - append 와 차이가 있다."
   ]
  },
  {
   "cell_type": "code",
   "execution_count": 4,
   "metadata": {},
   "outputs": [],
   "source": [
    "# 튜플의 특징\n",
    "# t1 = (1,) 하나만 넣을 때는 콤마(,) 를 꼭 붙여 주어야 한다.\n",
    "# 여러가 사용시 소괄호 () 를 안 붙여도 된다.\n",
    "# 튜플의 값을 변경, 삭제 시킬려고 하면 에러가 난다."
   ]
  },
  {
   "cell_type": "code",
   "execution_count": 5,
   "metadata": {},
   "outputs": [],
   "source": [
    "t1 = 1"
   ]
  },
  {
   "cell_type": "code",
   "execution_count": 6,
   "metadata": {},
   "outputs": [
    {
     "data": {
      "text/plain": [
       "int"
      ]
     },
     "execution_count": 6,
     "metadata": {},
     "output_type": "execute_result"
    }
   ],
   "source": [
    "type(t1)"
   ]
  },
  {
   "cell_type": "code",
   "execution_count": 7,
   "metadata": {},
   "outputs": [],
   "source": [
    "t2 = (1)"
   ]
  },
  {
   "cell_type": "code",
   "execution_count": 8,
   "metadata": {},
   "outputs": [
    {
     "data": {
      "text/plain": [
       "int"
      ]
     },
     "execution_count": 8,
     "metadata": {},
     "output_type": "execute_result"
    }
   ],
   "source": [
    "type(t2)"
   ]
  },
  {
   "cell_type": "code",
   "execution_count": 9,
   "metadata": {},
   "outputs": [],
   "source": [
    "t3 = 1,"
   ]
  },
  {
   "cell_type": "code",
   "execution_count": 10,
   "metadata": {},
   "outputs": [
    {
     "data": {
      "text/plain": [
       "tuple"
      ]
     },
     "execution_count": 10,
     "metadata": {},
     "output_type": "execute_result"
    }
   ],
   "source": [
    "type(t3)"
   ]
  },
  {
   "cell_type": "code",
   "execution_count": 11,
   "metadata": {},
   "outputs": [],
   "source": [
    "# 튜블의 관련 함수들은 리스트의 관련 함수들과 거의 같다."
   ]
  },
  {
   "cell_type": "code",
   "execution_count": 12,
   "metadata": {},
   "outputs": [],
   "source": [
    "# 딕셔너리는 key 값과 value 값이 한 쌍으로 이루어 진다.\n",
    "# 딕셔너리는 순서가 없다. 인덱싱 과 슬라이싱이 불가능 하다.\n",
    "# {key1:value1, key2:value2}\n",
    "# value 안에는 어떤 것이 들어 가도 상관 없다.\n",
    "# key 에는 리스트는 사용일 불가 하지만 튜블은 사용 가능하다."
   ]
  },
  {
   "cell_type": "code",
   "execution_count": 13,
   "metadata": {},
   "outputs": [],
   "source": [
    "# 딕셔너리에 관련한 함수\n",
    "# a.keys() key 의 값들을 뽑아라.\n",
    "# a.values() value 의 값들을 뽑아라.\n",
    "# a.tiems() 쌍으로 값을 뽑아라.\n",
    "# a.clear() 모든 값을 날릴때\n",
    "# a.get()\n",
    "# a.in() 해당 값이 존재 하는지 알아 볼때 사용"
   ]
  },
  {
   "cell_type": "code",
   "execution_count": 14,
   "metadata": {},
   "outputs": [],
   "source": [
    "# 집합(set) 자료형\n",
    "# s1 = set([1,2,3]) set 이라는 키워드를 넣어야 한다.\n",
    "# 중복을 허용 하지 않는다.\n",
    "# 순서가 없다. 인덱싱 과 슬라이싱 사용이 불가 하다."
   ]
  },
  {
   "cell_type": "code",
   "execution_count": 15,
   "metadata": {},
   "outputs": [],
   "source": [
    "# 교집합 s1 & s2 / a.intersection\n",
    "# 합집합 s1 | s2 / a.union\n",
    "# 차집합 s1 - s2, s2 - s1 / a.difference"
   ]
  },
  {
   "cell_type": "code",
   "execution_count": 16,
   "metadata": {},
   "outputs": [],
   "source": [
    "# 집합 관련 함수\n",
    "# a.add 한 개만 추가 할때 \n",
    "# a.update 여러개를 추가 할 때\n",
    "# a.remove 삭제 할 때"
   ]
  },
  {
   "cell_type": "code",
   "execution_count": 17,
   "metadata": {},
   "outputs": [],
   "source": [
    "# bool\n",
    "# True or False 참 또는 거짓 (항상 첫 글자는 대분자를 사용 하여야 한다.)"
   ]
  },
  {
   "cell_type": "code",
   "execution_count": 18,
   "metadata": {},
   "outputs": [],
   "source": [
    "# while 은 정해지지 않은 반복 작업 할 때 사용 한다.\n",
    "# for 은 정해진 숫자 만큼 반복 작업 할 때 사용 한다.\n",
    "# if ... else ... / elif "
   ]
  },
  {
   "cell_type": "code",
   "execution_count": 19,
   "metadata": {},
   "outputs": [],
   "source": [
    "a = ['Lie','is','too','short']\n",
    "a.sort()"
   ]
  },
  {
   "cell_type": "code",
   "execution_count": 22,
   "metadata": {},
   "outputs": [],
   "source": [
    "result = a.sort()"
   ]
  },
  {
   "cell_type": "raw",
   "metadata": {},
   "source": [
    "result"
   ]
  },
  {
   "cell_type": "code",
   "execution_count": 23,
   "metadata": {},
   "outputs": [],
   "source": [
    "result"
   ]
  },
  {
   "cell_type": "code",
   "execution_count": 32,
   "metadata": {},
   "outputs": [
    {
     "data": {
      "text/plain": [
       "(1, 2, 3, 4)"
      ]
     },
     "execution_count": 32,
     "metadata": {},
     "output_type": "execute_result"
    }
   ],
   "source": [
    "a = (1,2,3)\n",
    "a + (4,)"
   ]
  },
  {
   "cell_type": "code",
   "execution_count": null,
   "metadata": {},
   "outputs": [],
   "source": []
  }
 ],
 "metadata": {
  "kernelspec": {
   "display_name": "Python 3",
   "language": "python",
   "name": "python3"
  },
  "language_info": {
   "codemirror_mode": {
    "name": "ipython",
    "version": 3
   },
   "file_extension": ".py",
   "mimetype": "text/x-python",
   "name": "python",
   "nbconvert_exporter": "python",
   "pygments_lexer": "ipython3",
   "version": "3.8.5"
  }
 },
 "nbformat": 4,
 "nbformat_minor": 4
}
